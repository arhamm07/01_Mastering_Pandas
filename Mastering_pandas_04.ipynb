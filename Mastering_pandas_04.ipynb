{
 "cells": [
  {
   "cell_type": "markdown",
   "metadata": {},
   "source": [
    "# `Y-DATA PROFILING`\n",
    "\n",
    "## AUTOMATE YOUR EDA"
   ]
  },
  {
   "cell_type": "code",
   "execution_count": 2,
   "metadata": {},
   "outputs": [
    {
     "name": "stderr",
     "output_type": "stream",
     "text": [
      "c:\\Users\\Hamad\\miniconda3\\envs\\y-dataprofiling\\lib\\site-packages\\tqdm\\auto.py:21: TqdmWarning: IProgress not found. Please update jupyter and ipywidgets. See https://ipywidgets.readthedocs.io/en/stable/user_install.html\n",
      "  from .autonotebook import tqdm as notebook_tqdm\n"
     ]
    }
   ],
   "source": [
    "import pandas as pd\n",
    "import seaborn as sns\n",
    "import ydata_profiling as yd"
   ]
  },
  {
   "cell_type": "code",
   "execution_count": 3,
   "metadata": {},
   "outputs": [],
   "source": [
    "df = sns.load_dataset('titanic')"
   ]
  },
  {
   "cell_type": "code",
   "execution_count": 4,
   "metadata": {},
   "outputs": [
    {
     "name": "stderr",
     "output_type": "stream",
     "text": [
      "Summarize dataset:  77%|███████▋  | 17/22 [00:07<00:04,  1.19it/s, Calculate auto correlation]   c:\\Users\\Hamad\\miniconda3\\envs\\y-dataprofiling\\lib\\site-packages\\ydata_profiling\\model\\correlations.py:66: UserWarning: There was an attempt to calculate the auto correlation, but this failed.\n",
      "To hide this warning, disable the calculation\n",
      "(using `df.profile_report(correlations={\"auto\": {\"calculate\": False}})`\n",
      "If this is problematic for your use case, please report this as an issue:\n",
      "https://github.com/ydataai/ydata-profiling/issues\n",
      "(include the error message: 'Function <code object pandas_auto_compute at 0x00000283D4E3BAA0, file \"c:\\Users\\Hamad\\miniconda3\\envs\\y-dataprofiling\\lib\\site-packages\\ydata_profiling\\model\\pandas\\correlations_pandas.py\", line 164>')\n",
      "  warnings.warn(\n",
      "Summarize dataset:  88%|████████▊ | 36/41 [00:32<00:05,  1.13s/it, Missing diagram heatmap]   c:\\Users\\Hamad\\miniconda3\\envs\\y-dataprofiling\\lib\\site-packages\\seaborn\\matrix.py:260: FutureWarning: Format strings passed to MaskedConstant are ignored, but in future may error or produce different behavior\n",
      "  annotation = (\"{:\" + self.fmt + \"}\").format(val)\n",
      "c:\\Users\\Hamad\\miniconda3\\envs\\y-dataprofiling\\lib\\site-packages\\ydata_profiling\\model\\missing.py:78: UserWarning: There was an attempt to generate the Heatmap missing values diagrams, but this failed.\n",
      "To hide this warning, disable the calculation\n",
      "(using `df.profile_report(missing_diagrams={\"Heatmap\": False}`)\n",
      "If this is problematic for your use case, please report this as an issue:\n",
      "https://github.com/ydataai/ydata-profiling/issues\n",
      "(include the error message: 'could not convert string to float: '--'')\n",
      "  warnings.warn(\n",
      "Summarize dataset: 100%|██████████| 41/41 [00:33<00:00,  1.22it/s, Completed]               \n",
      "Generate report structure: 100%|██████████| 1/1 [00:27<00:00, 27.25s/it]\n",
      "Render HTML: 100%|██████████| 1/1 [00:10<00:00, 10.25s/it]\n",
      "Export report to file: 100%|██████████| 1/1 [00:00<00:00, 45.82it/s]\n"
     ]
    }
   ],
   "source": [
    "# creating a file report using y-data profiling\n",
    "profile = yd.ProfileReport(df)\n",
    "# saving the profile to an html file\n",
    "profile.to_file(output_file='y-data-titanic.html')"
   ]
  },
  {
   "cell_type": "code",
   "execution_count": 5,
   "metadata": {},
   "outputs": [
    {
     "name": "stderr",
     "output_type": "stream",
     "text": [
      "Summarize dataset:  83%|████████▎ | 24/29 [00:01<00:00, 27.98it/s, Calculate auto correlation]                  c:\\Users\\Hamad\\miniconda3\\envs\\y-dataprofiling\\lib\\site-packages\\ydata_profiling\\model\\correlations.py:66: UserWarning: There was an attempt to calculate the auto correlation, but this failed.\n",
      "To hide this warning, disable the calculation\n",
      "(using `df.profile_report(correlations={\"auto\": {\"calculate\": False}})`\n",
      "If this is problematic for your use case, please report this as an issue:\n",
      "https://github.com/ydataai/ydata-profiling/issues\n",
      "(include the error message: 'could not convert string to float: 'BAHAWALPUR DIVISION'')\n",
      "  warnings.warn(\n",
      "Summarize dataset: 100%|██████████| 355/355 [04:54<00:00,  1.20it/s, Completed]                                                     \n",
      "Generate report structure: 100%|██████████| 1/1 [01:01<00:00, 61.70s/it]\n",
      "Render HTML: 100%|██████████| 1/1 [01:36<00:00, 96.81s/it]\n",
      "Export report to file: 100%|██████████| 1/1 [00:00<00:00,  1.89it/s]\n"
     ]
    }
   ],
   "source": [
    "# creating a profile of pakistan population dataset\n",
    "df = pd.read_csv('data.csv')\n",
    "profile = yd.ProfileReport(df)\n",
    "profile.to_file('output_file=pak_population.html')"
   ]
  },
  {
   "cell_type": "markdown",
   "metadata": {},
   "source": [
    "# `SKIMMING OF THE DATA`"
   ]
  },
  {
   "cell_type": "code",
   "execution_count": 9,
   "metadata": {},
   "outputs": [],
   "source": [
    "from skimpy import skim,generate_test_data"
   ]
  },
  {
   "cell_type": "code",
   "execution_count": 7,
   "metadata": {},
   "outputs": [
    {
     "name": "stdout",
     "output_type": "stream",
     "text": [
      "┌────────────────────────────── skimpy summary ───────────────────────────────┐\n",
      "│ \u001b[3m         Data Summary         \u001b[0m \u001b[3m      Data Types       \u001b[0m                      │\n",
      "│ ┌───────────────────┬────────┐ ┌─────────────┬───────┐                      │\n",
      "│ │\u001b[1;36m \u001b[0m\u001b[1;36mdataframe        \u001b[0m\u001b[1;36m \u001b[0m│\u001b[1;36m \u001b[0m\u001b[1;36mValues\u001b[0m\u001b[1;36m \u001b[0m│ │\u001b[1;36m \u001b[0m\u001b[1;36mColumn Type\u001b[0m\u001b[1;36m \u001b[0m│\u001b[1;36m \u001b[0m\u001b[1;36mCount\u001b[0m\u001b[1;36m \u001b[0m│                      │\n",
      "│ ├───────────────────┼────────┤ ├─────────────┼───────┤                      │\n",
      "│ │ Number of rows    │ 528    │ │ int32       │ 11    │                      │\n",
      "│ │ Number of columns │ 22     │ │ float64     │ 7     │                      │\n",
      "│ └───────────────────┴────────┘ │ string      │ 4     │                      │\n",
      "│                                └─────────────┴───────┘                      │\n",
      "│ \u001b[3m                                  number                                  \u001b[0m  │\n",
      "│ ┌──────┬────┬──────┬──────┬──────┬────┬──────┬──────┬──────┬──────┬──────┐  │\n",
      "│ │\u001b[1m \u001b[0m\u001b[1mcolu\u001b[0m\u001b[1m \u001b[0m│\u001b[1m    \u001b[0m│\u001b[1m      \u001b[0m│\u001b[1m      \u001b[0m│\u001b[1m      \u001b[0m│\u001b[1m    \u001b[0m│\u001b[1m      \u001b[0m│\u001b[1m      \u001b[0m│\u001b[1m      \u001b[0m│\u001b[1m      \u001b[0m│\u001b[1m      \u001b[0m│  │\n",
      "│ │\u001b[1m \u001b[0m\u001b[1mmn_n\u001b[0m\u001b[1m \u001b[0m│\u001b[1m    \u001b[0m│\u001b[1m      \u001b[0m│\u001b[1m      \u001b[0m│\u001b[1m      \u001b[0m│\u001b[1m    \u001b[0m│\u001b[1m      \u001b[0m│\u001b[1m      \u001b[0m│\u001b[1m      \u001b[0m│\u001b[1m      \u001b[0m│\u001b[1m      \u001b[0m│  │\n",
      "│ │\u001b[1m \u001b[0m\u001b[1mame \u001b[0m\u001b[1m \u001b[0m│\u001b[1m \u001b[0m\u001b[1mNA\u001b[0m\u001b[1m \u001b[0m│\u001b[1m \u001b[0m\u001b[1mNA %\u001b[0m\u001b[1m \u001b[0m│\u001b[1m \u001b[0m\u001b[1mmean\u001b[0m\u001b[1m \u001b[0m│\u001b[1m \u001b[0m\u001b[1msd  \u001b[0m\u001b[1m \u001b[0m│\u001b[1m \u001b[0m\u001b[1mp0\u001b[0m\u001b[1m \u001b[0m│\u001b[1m \u001b[0m\u001b[1mp25 \u001b[0m\u001b[1m \u001b[0m│\u001b[1m \u001b[0m\u001b[1mp50 \u001b[0m\u001b[1m \u001b[0m│\u001b[1m \u001b[0m\u001b[1mp75 \u001b[0m\u001b[1m \u001b[0m│\u001b[1m \u001b[0m\u001b[1mp100\u001b[0m\u001b[1m \u001b[0m│\u001b[1m \u001b[0m\u001b[1mhist\u001b[0m\u001b[1m \u001b[0m│  │\n",
      "│ ├──────┼────┼──────┼──────┼──────┼────┼──────┼──────┼──────┼──────┼──────┤  │\n",
      "│ │ \u001b[37mAREA\u001b[0m │ \u001b[36m 0\u001b[0m │ \u001b[36m   0\u001b[0m │ \u001b[36m1500\u001b[0m │ \u001b[36m2000\u001b[0m │ \u001b[36m 0\u001b[0m │ \u001b[36m 420\u001b[0m │ \u001b[36m 880\u001b[0m │ \u001b[36m1700\u001b[0m │ \u001b[36m1800\u001b[0m │ \u001b[32m ▇▁ \u001b[0m │  │\n",
      "│ │ \u001b[37m(sq.\u001b[0m │    │      │      │      │    │      │      │      │ \u001b[36m   0\u001b[0m │      │  │\n",
      "│ │ \u001b[37mkm) \u001b[0m │    │      │      │      │    │      │      │      │      │      │  │\n",
      "│ │ \u001b[37mALL \u001b[0m │ \u001b[36m 0\u001b[0m │ \u001b[36m   0\u001b[0m │ \u001b[36m2500\u001b[0m │ \u001b[36m2700\u001b[0m │ \u001b[36m 0\u001b[0m │ \u001b[36m5100\u001b[0m │ \u001b[36m1700\u001b[0m │ \u001b[36m3100\u001b[0m │ \u001b[36m2300\u001b[0m │ \u001b[32m ▇▁ \u001b[0m │  │\n",
      "│ │ \u001b[37mSEXE\u001b[0m │    │      │ \u001b[36m  00\u001b[0m │ \u001b[36m  00\u001b[0m │    │ \u001b[36m   0\u001b[0m │ \u001b[36m  00\u001b[0m │ \u001b[36m  00\u001b[0m │ \u001b[36m 000\u001b[0m │      │  │\n",
      "│ │ \u001b[37mS   \u001b[0m │    │      │      │      │    │      │      │      │      │      │  │\n",
      "│ │ \u001b[37m(RUR\u001b[0m │    │      │      │      │    │      │      │      │      │      │  │\n",
      "│ │ \u001b[37mAL) \u001b[0m │    │      │      │      │    │      │      │      │      │      │  │\n",
      "│ │ \u001b[37mMALE\u001b[0m │ \u001b[36m 0\u001b[0m │ \u001b[36m   0\u001b[0m │ \u001b[36m1300\u001b[0m │ \u001b[36m1400\u001b[0m │ \u001b[36m 0\u001b[0m │ \u001b[36m2700\u001b[0m │ \u001b[36m8400\u001b[0m │ \u001b[36m1600\u001b[0m │ \u001b[36m1200\u001b[0m │ \u001b[32m ▇▁ \u001b[0m │  │\n",
      "│ │ \u001b[37m(RUR\u001b[0m │    │      │ \u001b[36m  00\u001b[0m │ \u001b[36m  00\u001b[0m │    │ \u001b[36m   0\u001b[0m │ \u001b[36m   0\u001b[0m │ \u001b[36m  00\u001b[0m │ \u001b[36m 000\u001b[0m │      │  │\n",
      "│ │ \u001b[37mAL) \u001b[0m │    │      │      │      │    │      │      │      │      │      │  │\n",
      "│ │ \u001b[37mFEMA\u001b[0m │ \u001b[36m 0\u001b[0m │ \u001b[36m   0\u001b[0m │ \u001b[36m1200\u001b[0m │ \u001b[36m1300\u001b[0m │ \u001b[36m 0\u001b[0m │ \u001b[36m2400\u001b[0m │ \u001b[36m8200\u001b[0m │ \u001b[36m1500\u001b[0m │ \u001b[36m1100\u001b[0m │ \u001b[32m ▇▁ \u001b[0m │  │\n",
      "│ │ \u001b[37mLE  \u001b[0m │    │      │ \u001b[36m  00\u001b[0m │ \u001b[36m  00\u001b[0m │    │ \u001b[36m   0\u001b[0m │ \u001b[36m   0\u001b[0m │ \u001b[36m  00\u001b[0m │ \u001b[36m 000\u001b[0m │      │  │\n",
      "│ │ \u001b[37m(RUR\u001b[0m │    │      │      │      │    │      │      │      │      │      │  │\n",
      "│ │ \u001b[37mAL) \u001b[0m │    │      │      │      │    │      │      │      │      │      │  │\n",
      "│ │ \u001b[37mTRAN\u001b[0m │ \u001b[36m 0\u001b[0m │ \u001b[36m   0\u001b[0m │ \u001b[36m  18\u001b[0m │ \u001b[36m  26\u001b[0m │ \u001b[36m 0\u001b[0m │ \u001b[36m   1\u001b[0m │ \u001b[36m  10\u001b[0m │ \u001b[36m  25\u001b[0m │ \u001b[36m 210\u001b[0m │ \u001b[32m ▇▁ \u001b[0m │  │\n",
      "│ │ \u001b[37mSGEN\u001b[0m │    │      │      │      │    │      │      │      │      │      │  │\n",
      "│ │ \u001b[37mDER \u001b[0m │    │      │      │      │    │      │      │      │      │      │  │\n",
      "│ │ \u001b[37m(RUR\u001b[0m │    │      │      │      │    │      │      │      │      │      │  │\n",
      "│ │ \u001b[37mAL) \u001b[0m │    │      │      │      │    │      │      │      │      │      │  │\n",
      "│ │ \u001b[37mSEX \u001b[0m │ \u001b[36m 0\u001b[0m │ \u001b[36m   0\u001b[0m │ \u001b[36m  99\u001b[0m │ \u001b[36m  27\u001b[0m │ \u001b[36m 0\u001b[0m │ \u001b[36m 100\u001b[0m │ \u001b[36m 110\u001b[0m │ \u001b[36m 110\u001b[0m │ \u001b[36m 140\u001b[0m │ \u001b[32m ▁  \u001b[0m │  │\n",
      "│ │ \u001b[37mRATI\u001b[0m │    │      │      │      │    │      │      │      │      │ \u001b[32m ▇▁ \u001b[0m │  │\n",
      "│ │ \u001b[37mO   \u001b[0m │    │      │      │      │    │      │      │      │      │      │  │\n",
      "│ │ \u001b[37m(RUR\u001b[0m │    │      │      │      │    │      │      │      │      │      │  │\n",
      "│ │ \u001b[37mAL) \u001b[0m │    │      │      │      │    │      │      │      │      │      │  │\n",
      "│ │ \u001b[37mAVG \u001b[0m │ \u001b[36m 0\u001b[0m │ \u001b[36m   0\u001b[0m │ \u001b[36m 6.3\u001b[0m │ \u001b[36m 2.1\u001b[0m │ \u001b[36m 0\u001b[0m │ \u001b[36m 5.7\u001b[0m │ \u001b[36m 6.3\u001b[0m │ \u001b[36m 7.2\u001b[0m │ \u001b[36m  12\u001b[0m │ \u001b[32m ▁  \u001b[0m │  │\n",
      "│ │ \u001b[37mHOUS\u001b[0m │    │      │      │      │    │      │      │      │      │ \u001b[32m▇▇▂ \u001b[0m │  │\n",
      "│ │ \u001b[37mEHOL\u001b[0m │    │      │      │      │    │      │      │      │      │      │  │\n",
      "│ │ \u001b[37mD   \u001b[0m │    │      │      │      │    │      │      │      │      │      │  │\n",
      "│ │ \u001b[37mSIZE\u001b[0m │    │      │      │      │    │      │      │      │      │      │  │\n",
      "│ │ \u001b[37m(RUR\u001b[0m │    │      │      │      │    │      │      │      │      │      │  │\n",
      "│ │ \u001b[37mAL) \u001b[0m │    │      │      │      │    │      │      │      │      │      │  │\n",
      "│ │ \u001b[37mPOPU\u001b[0m │ \u001b[36m 0\u001b[0m │ \u001b[36m   0\u001b[0m │ \u001b[36m1700\u001b[0m │ \u001b[36m1800\u001b[0m │ \u001b[36m 0\u001b[0m │ \u001b[36m3500\u001b[0m │ \u001b[36m1200\u001b[0m │ \u001b[36m2100\u001b[0m │ \u001b[36m1000\u001b[0m │ \u001b[32m▇▃▁▁\u001b[0m │  │\n",
      "│ │ \u001b[37mLATI\u001b[0m │    │      │ \u001b[36m  00\u001b[0m │ \u001b[36m  00\u001b[0m │    │ \u001b[36m   0\u001b[0m │ \u001b[36m  00\u001b[0m │ \u001b[36m  00\u001b[0m │ \u001b[36m 000\u001b[0m │      │  │\n",
      "│ │ \u001b[37mON  \u001b[0m │    │      │      │      │    │      │      │      │      │      │  │\n",
      "│ │ \u001b[37m1998\u001b[0m │    │      │      │      │    │      │      │      │      │      │  │\n",
      "│ │ \u001b[37m(RUR\u001b[0m │    │      │      │      │    │      │      │      │      │      │  │\n",
      "│ │ \u001b[37mAL) \u001b[0m │    │      │      │      │    │      │      │      │      │      │  │\n",
      "│ │ \u001b[37mANNU\u001b[0m │ \u001b[36m 0\u001b[0m │ \u001b[36m   0\u001b[0m │ \u001b[36m 3.1\u001b[0m │ \u001b[36m 9.6\u001b[0m │ \u001b[36m 0\u001b[0m │ \u001b[36m 1.4\u001b[0m │ \u001b[36m   2\u001b[0m │ \u001b[36m 2.8\u001b[0m │ \u001b[36m 100\u001b[0m │ \u001b[32m ▇  \u001b[0m │  │\n",
      "│ │ \u001b[37mAL  \u001b[0m │    │      │      │      │    │      │      │      │      │      │  │\n",
      "│ │ \u001b[37mGROW\u001b[0m │    │      │      │      │    │      │      │      │      │      │  │\n",
      "│ │ \u001b[37mTH  \u001b[0m │    │      │      │      │    │      │      │      │      │      │  │\n",
      "│ │ \u001b[37mRATE\u001b[0m │    │      │      │      │    │      │      │      │      │      │  │\n",
      "│ │ \u001b[37m(RUR\u001b[0m │    │      │      │      │    │      │      │      │      │      │  │\n",
      "│ │ \u001b[37mAL) \u001b[0m │    │      │      │      │    │      │      │      │      │      │  │\n",
      "│ │ \u001b[37mALL \u001b[0m │ \u001b[36m 0\u001b[0m │ \u001b[36m   0\u001b[0m │ \u001b[36m1400\u001b[0m │ \u001b[36m3500\u001b[0m │ \u001b[36m 0\u001b[0m │ \u001b[36m   0\u001b[0m │ \u001b[36m4300\u001b[0m │ \u001b[36m1200\u001b[0m │ \u001b[36m3700\u001b[0m │ \u001b[32m ▇  \u001b[0m │  │\n",
      "│ │ \u001b[37mSEXE\u001b[0m │    │      │ \u001b[36m  00\u001b[0m │ \u001b[36m  00\u001b[0m │    │      │ \u001b[36m   0\u001b[0m │ \u001b[36m  00\u001b[0m │ \u001b[36m 000\u001b[0m │      │  │\n",
      "│ │ \u001b[37mS   \u001b[0m │    │      │      │      │    │      │      │      │      │      │  │\n",
      "│ │ \u001b[37m(URB\u001b[0m │    │      │      │      │    │      │      │      │      │      │  │\n",
      "│ │ \u001b[37mAN) \u001b[0m │    │      │      │      │    │      │      │      │      │      │  │\n",
      "│ │ \u001b[37mMALE\u001b[0m │ \u001b[36m 0\u001b[0m │ \u001b[36m   0\u001b[0m │ \u001b[36m7300\u001b[0m │ \u001b[36m1800\u001b[0m │ \u001b[36m 0\u001b[0m │ \u001b[36m   0\u001b[0m │ \u001b[36m2200\u001b[0m │ \u001b[36m6000\u001b[0m │ \u001b[36m1900\u001b[0m │ \u001b[32m ▇  \u001b[0m │  │\n",
      "│ │ \u001b[37m(URB\u001b[0m │    │      │ \u001b[36m   0\u001b[0m │ \u001b[36m  00\u001b[0m │    │      │ \u001b[36m   0\u001b[0m │ \u001b[36m   0\u001b[0m │ \u001b[36m 000\u001b[0m │      │  │\n",
      "│ │ \u001b[37mAN) \u001b[0m │    │      │      │      │    │      │      │      │      │      │  │\n",
      "│ │ \u001b[37mFEMA\u001b[0m │ \u001b[36m 0\u001b[0m │ \u001b[36m   0\u001b[0m │ \u001b[36m6800\u001b[0m │ \u001b[36m1700\u001b[0m │ \u001b[36m 0\u001b[0m │ \u001b[36m   0\u001b[0m │ \u001b[36m2100\u001b[0m │ \u001b[36m5700\u001b[0m │ \u001b[36m1700\u001b[0m │ \u001b[32m ▇  \u001b[0m │  │\n",
      "│ │ \u001b[37mLE  \u001b[0m │    │      │ \u001b[36m   0\u001b[0m │ \u001b[36m  00\u001b[0m │    │      │ \u001b[36m   0\u001b[0m │ \u001b[36m   0\u001b[0m │ \u001b[36m 000\u001b[0m │      │  │\n",
      "│ │ \u001b[37m(URB\u001b[0m │    │      │      │      │    │      │      │      │      │      │  │\n",
      "│ │ \u001b[37mAN) \u001b[0m │    │      │      │      │    │      │      │      │      │      │  │\n",
      "│ │ \u001b[37mTRAN\u001b[0m │ \u001b[36m 0\u001b[0m │ \u001b[36m   0\u001b[0m │ \u001b[36m  22\u001b[0m │ \u001b[36m  66\u001b[0m │ \u001b[36m 0\u001b[0m │ \u001b[36m   0\u001b[0m │ \u001b[36m   3\u001b[0m │ \u001b[36m  19\u001b[0m │ \u001b[36m 800\u001b[0m │ \u001b[32m ▇  \u001b[0m │  │\n",
      "│ │ \u001b[37mSGEN\u001b[0m │    │      │      │      │    │      │      │      │      │      │  │\n",
      "│ │ \u001b[37mDER \u001b[0m │    │      │      │      │    │      │      │      │      │      │  │\n",
      "│ │ \u001b[37m(URB\u001b[0m │    │      │      │      │    │      │      │      │      │      │  │\n",
      "│ │ \u001b[37mAN) \u001b[0m │    │      │      │      │    │      │      │      │      │      │  │\n",
      "│ │ \u001b[37mSEX \u001b[0m │ \u001b[36m 0\u001b[0m │ \u001b[36m   0\u001b[0m │ \u001b[36m  75\u001b[0m │ \u001b[36m  50\u001b[0m │ \u001b[36m 0\u001b[0m │ \u001b[36m   0\u001b[0m │ \u001b[36m 100\u001b[0m │ \u001b[36m 110\u001b[0m │ \u001b[36m 300\u001b[0m │ \u001b[32m▃▁▇ \u001b[0m │  │\n",
      "│ │ \u001b[37mRATI\u001b[0m │    │      │      │      │    │      │      │      │      │      │  │\n",
      "│ │ \u001b[37mO   \u001b[0m │    │      │      │      │    │      │      │      │      │      │  │\n",
      "│ │ \u001b[37m(URB\u001b[0m │    │      │      │      │    │      │      │      │      │      │  │\n",
      "│ │ \u001b[37mAN) \u001b[0m │    │      │      │      │    │      │      │      │      │      │  │\n",
      "│ │ \u001b[37mAVG \u001b[0m │ \u001b[36m 0\u001b[0m │ \u001b[36m   0\u001b[0m │ \u001b[36m 4.4\u001b[0m │ \u001b[36m 2.9\u001b[0m │ \u001b[36m 0\u001b[0m │ \u001b[36m   0\u001b[0m │ \u001b[36m 5.8\u001b[0m │ \u001b[36m 6.3\u001b[0m │ \u001b[36m  10\u001b[0m │ \u001b[32m ▅  \u001b[0m │  │\n",
      "│ │ \u001b[37mHOUS\u001b[0m │    │      │      │      │    │      │      │      │      │ \u001b[32m▁▇▂ \u001b[0m │  │\n",
      "│ │ \u001b[37mEHOL\u001b[0m │    │      │      │      │    │      │      │      │      │      │  │\n",
      "│ │ \u001b[37mD   \u001b[0m │    │      │      │      │    │      │      │      │      │      │  │\n",
      "│ │ \u001b[37mSIZE\u001b[0m │    │      │      │      │    │      │      │      │      │      │  │\n",
      "│ │ \u001b[37m(URB\u001b[0m │    │      │      │      │    │      │      │      │      │      │  │\n",
      "│ │ \u001b[37mAN) \u001b[0m │    │      │      │      │    │      │      │      │      │      │  │\n",
      "│ │ \u001b[37mPOPU\u001b[0m │ \u001b[36m 0\u001b[0m │ \u001b[36m   0\u001b[0m │ \u001b[36m8000\u001b[0m │ \u001b[36m2000\u001b[0m │ \u001b[36m 0\u001b[0m │ \u001b[36m   0\u001b[0m │ \u001b[36m2100\u001b[0m │ \u001b[36m6500\u001b[0m │ \u001b[36m2100\u001b[0m │ \u001b[32m ▇  \u001b[0m │  │\n",
      "│ │ \u001b[37mLATI\u001b[0m │    │      │ \u001b[36m   0\u001b[0m │ \u001b[36m  00\u001b[0m │    │      │ \u001b[36m   0\u001b[0m │ \u001b[36m   0\u001b[0m │ \u001b[36m 000\u001b[0m │      │  │\n",
      "│ │ \u001b[37mON  \u001b[0m │    │      │      │      │    │      │      │      │      │      │  │\n",
      "│ │ \u001b[37m1998\u001b[0m │    │      │      │      │    │      │      │      │      │      │  │\n",
      "│ │ \u001b[37m(URB\u001b[0m │    │      │      │      │    │      │      │      │      │      │  │\n",
      "│ │ \u001b[37mAN) \u001b[0m │    │      │      │      │    │      │      │      │      │      │  │\n",
      "│ │ \u001b[37mANNU\u001b[0m │ \u001b[36m 0\u001b[0m │ \u001b[36m   0\u001b[0m │ \u001b[36m 1.9\u001b[0m │ \u001b[36m 2.1\u001b[0m │ \u001b[36m 0\u001b[0m │ \u001b[36m   0\u001b[0m │ \u001b[36m 1.9\u001b[0m │ \u001b[36m   3\u001b[0m │ \u001b[36m  20\u001b[0m │ \u001b[32m ▇▂ \u001b[0m │  │\n",
      "│ │ \u001b[37mAL  \u001b[0m │    │      │      │      │    │      │      │      │      │      │  │\n",
      "│ │ \u001b[37mGROW\u001b[0m │    │      │      │      │    │      │      │      │      │      │  │\n",
      "│ │ \u001b[37mTH  \u001b[0m │    │      │      │      │    │      │      │      │      │      │  │\n",
      "│ │ \u001b[37mRATE\u001b[0m │    │      │      │      │    │      │      │      │      │      │  │\n",
      "│ │ \u001b[37m(URB\u001b[0m │    │      │      │      │    │      │      │      │      │      │  │\n",
      "│ │ \u001b[37mAN) \u001b[0m │    │      │      │      │    │      │      │      │      │      │  │\n",
      "│ │ \u001b[37mSex(\u001b[0m │ \u001b[36m 0\u001b[0m │ \u001b[36m   0\u001b[0m │ \u001b[36m2500\u001b[0m │ \u001b[36m2700\u001b[0m │ \u001b[36m 0\u001b[0m │ \u001b[36m5100\u001b[0m │ \u001b[36m1700\u001b[0m │ \u001b[36m3100\u001b[0m │ \u001b[36m2300\u001b[0m │ \u001b[32m ▇▁ \u001b[0m │  │\n",
      "│ │ \u001b[37mRURA\u001b[0m │    │      │ \u001b[36m  00\u001b[0m │ \u001b[36m  00\u001b[0m │    │ \u001b[36m   0\u001b[0m │ \u001b[36m  00\u001b[0m │ \u001b[36m  00\u001b[0m │ \u001b[36m 000\u001b[0m │      │  │\n",
      "│ │ \u001b[37mL)  \u001b[0m │    │      │      │      │    │      │      │      │      │      │  │\n",
      "│ └──────┴────┴──────┴──────┴──────┴────┴──────┴──────┴──────┴──────┴──────┘  │\n",
      "│ \u001b[3m                                  string                                  \u001b[0m  │\n",
      "│ ┌───────────────────┬──────┬────────┬───────────────────┬────────────────┐  │\n",
      "│ │\u001b[1m \u001b[0m\u001b[1mcolumn_name      \u001b[0m\u001b[1m \u001b[0m│\u001b[1m \u001b[0m\u001b[1mNA  \u001b[0m\u001b[1m \u001b[0m│\u001b[1m \u001b[0m\u001b[1mNA %  \u001b[0m\u001b[1m \u001b[0m│\u001b[1m \u001b[0m\u001b[1mwords per row    \u001b[0m\u001b[1m \u001b[0m│\u001b[1m \u001b[0m\u001b[1mtotal words   \u001b[0m\u001b[1m \u001b[0m│  │\n",
      "│ ├───────────────────┼──────┼────────┼───────────────────┼────────────────┤  │\n",
      "│ │ \u001b[37mPROVINCE         \u001b[0m │ \u001b[36m   0\u001b[0m │ \u001b[36m     0\u001b[0m │ \u001b[36m                1\u001b[0m │ \u001b[36m           528\u001b[0m │  │\n",
      "│ │ \u001b[37mDIVISION         \u001b[0m │ \u001b[36m   0\u001b[0m │ \u001b[36m     0\u001b[0m │ \u001b[36m              2.1\u001b[0m │ \u001b[36m          1101\u001b[0m │  │\n",
      "│ │ \u001b[37mDISTRICT         \u001b[0m │ \u001b[36m   0\u001b[0m │ \u001b[36m     0\u001b[0m │ \u001b[36m              2.3\u001b[0m │ \u001b[36m          1216\u001b[0m │  │\n",
      "│ │ \u001b[37mSUB DIVISION     \u001b[0m │ \u001b[36m   0\u001b[0m │ \u001b[36m     0\u001b[0m │ \u001b[36m              2.3\u001b[0m │ \u001b[36m          1232\u001b[0m │  │\n",
      "│ └───────────────────┴──────┴────────┴───────────────────┴────────────────┘  │\n",
      "└──────────────────────────────────── End ────────────────────────────────────┘\n"
     ]
    }
   ],
   "source": [
    "skim(df)"
   ]
  },
  {
   "cell_type": "code",
   "execution_count": 10,
   "metadata": {},
   "outputs": [
    {
     "name": "stdout",
     "output_type": "stream",
     "text": [
      "┌────────────────────────────── skimpy summary ───────────────────────────────┐\n",
      "│ \u001b[3m         Data Summary         \u001b[0m \u001b[3m      Data Types       \u001b[0m                      │\n",
      "│ ┌───────────────────┬────────┐ ┌─────────────┬───────┐                      │\n",
      "│ │\u001b[1;36m \u001b[0m\u001b[1;36mdataframe        \u001b[0m\u001b[1;36m \u001b[0m│\u001b[1;36m \u001b[0m\u001b[1;36mValues\u001b[0m\u001b[1;36m \u001b[0m│ │\u001b[1;36m \u001b[0m\u001b[1;36mColumn Type\u001b[0m\u001b[1;36m \u001b[0m│\u001b[1;36m \u001b[0m\u001b[1;36mCount\u001b[0m\u001b[1;36m \u001b[0m│                      │\n",
      "│ ├───────────────────┼────────┤ ├─────────────┼───────┤                      │\n",
      "│ │ Number of rows    │ 1000   │ │ float64     │ 3     │                      │\n",
      "│ │ Number of columns │ 13     │ │ category    │ 2     │                      │\n",
      "│ └───────────────────┴────────┘ │ datetime64  │ 2     │                      │\n",
      "│                                │ object      │ 2     │                      │\n",
      "│                                │ int32       │ 1     │                      │\n",
      "│                                │ bool        │ 1     │                      │\n",
      "│                                │ string      │ 1     │                      │\n",
      "│                                │ timedelta64 │ 1     │                      │\n",
      "│                                └─────────────┴───────┘                      │\n",
      "│ \u001b[3m       Categories        \u001b[0m                                                   │\n",
      "│ ┌───────────────────────┐                                                   │\n",
      "│ │\u001b[1;36m \u001b[0m\u001b[1;36mCategorical Variables\u001b[0m\u001b[1;36m \u001b[0m│                                                   │\n",
      "│ ├───────────────────────┤                                                   │\n",
      "│ │ class                 │                                                   │\n",
      "│ │ location              │                                                   │\n",
      "│ └───────────────────────┘                                                   │\n",
      "│ \u001b[3m                                  number                                  \u001b[0m  │\n",
      "│ ┌──────┬─────┬──────┬──────┬──────┬──────┬─────┬──────┬─────┬──────┬─────┐  │\n",
      "│ │\u001b[1m \u001b[0m\u001b[1mcolu\u001b[0m\u001b[1m \u001b[0m│\u001b[1m     \u001b[0m│\u001b[1m      \u001b[0m│\u001b[1m      \u001b[0m│\u001b[1m      \u001b[0m│\u001b[1m      \u001b[0m│\u001b[1m     \u001b[0m│\u001b[1m      \u001b[0m│\u001b[1m     \u001b[0m│\u001b[1m      \u001b[0m│\u001b[1m     \u001b[0m│  │\n",
      "│ │\u001b[1m \u001b[0m\u001b[1mmn_n\u001b[0m\u001b[1m \u001b[0m│\u001b[1m     \u001b[0m│\u001b[1m      \u001b[0m│\u001b[1m      \u001b[0m│\u001b[1m      \u001b[0m│\u001b[1m      \u001b[0m│\u001b[1m     \u001b[0m│\u001b[1m      \u001b[0m│\u001b[1m     \u001b[0m│\u001b[1m      \u001b[0m│\u001b[1m \u001b[0m\u001b[1mhis\u001b[0m\u001b[1m \u001b[0m│  │\n",
      "│ │\u001b[1m \u001b[0m\u001b[1mame \u001b[0m\u001b[1m \u001b[0m│\u001b[1m \u001b[0m\u001b[1mNA \u001b[0m\u001b[1m \u001b[0m│\u001b[1m \u001b[0m\u001b[1mNA %\u001b[0m\u001b[1m \u001b[0m│\u001b[1m \u001b[0m\u001b[1mmean\u001b[0m\u001b[1m \u001b[0m│\u001b[1m \u001b[0m\u001b[1msd  \u001b[0m\u001b[1m \u001b[0m│\u001b[1m \u001b[0m\u001b[1mp0  \u001b[0m\u001b[1m \u001b[0m│\u001b[1m \u001b[0m\u001b[1mp25\u001b[0m\u001b[1m \u001b[0m│\u001b[1m \u001b[0m\u001b[1mp50 \u001b[0m\u001b[1m \u001b[0m│\u001b[1m \u001b[0m\u001b[1mp75\u001b[0m\u001b[1m \u001b[0m│\u001b[1m \u001b[0m\u001b[1mp100\u001b[0m\u001b[1m \u001b[0m│\u001b[1m \u001b[0m\u001b[1mt  \u001b[0m\u001b[1m \u001b[0m│  │\n",
      "│ ├──────┼─────┼──────┼──────┼──────┼──────┼─────┼──────┼─────┼──────┼─────┤  │\n",
      "│ │ \u001b[37mleng\u001b[0m │ \u001b[36m  0\u001b[0m │ \u001b[36m   0\u001b[0m │ \u001b[36m 0.5\u001b[0m │ \u001b[36m0.36\u001b[0m │ \u001b[36m1.6e\u001b[0m │ \u001b[36m0.1\u001b[0m │ \u001b[36m 0.5\u001b[0m │ \u001b[36m0.8\u001b[0m │ \u001b[36m   1\u001b[0m │ \u001b[32m▇▃▃\u001b[0m │  │\n",
      "│ │ \u001b[37mth  \u001b[0m │     │      │      │      │ \u001b[36m -06\u001b[0m │ \u001b[36m  3\u001b[0m │      │ \u001b[36m  6\u001b[0m │      │ \u001b[32m▃▅▇\u001b[0m │  │\n",
      "│ │ \u001b[37mwidt\u001b[0m │ \u001b[36m  0\u001b[0m │ \u001b[36m   0\u001b[0m │ \u001b[36m   2\u001b[0m │ \u001b[36m 1.9\u001b[0m │ \u001b[36m0.00\u001b[0m │ \u001b[36m0.6\u001b[0m │ \u001b[36m 1.5\u001b[0m │ \u001b[36m  3\u001b[0m │ \u001b[36m  14\u001b[0m │ \u001b[32m▇▃▁\u001b[0m │  │\n",
      "│ │ \u001b[37mh   \u001b[0m │     │      │      │      │ \u001b[36m  21\u001b[0m │     │      │     │      │     │  │\n",
      "│ │ \u001b[37mdept\u001b[0m │ \u001b[36m  0\u001b[0m │ \u001b[36m   0\u001b[0m │ \u001b[36m  10\u001b[0m │ \u001b[36m 3.2\u001b[0m │ \u001b[36m   2\u001b[0m │ \u001b[36m  8\u001b[0m │ \u001b[36m  10\u001b[0m │ \u001b[36m 12\u001b[0m │ \u001b[36m  20\u001b[0m │ \u001b[32m▁▃▇\u001b[0m │  │\n",
      "│ │ \u001b[37mh   \u001b[0m │     │      │      │      │      │     │      │     │      │ \u001b[32m▆▃▁\u001b[0m │  │\n",
      "│ │ \u001b[37mrnd \u001b[0m │ \u001b[36m118\u001b[0m │ \u001b[36m11.8\u001b[0m │ \u001b[36m-0.0\u001b[0m │ \u001b[36m   1\u001b[0m │ \u001b[36m-2.8\u001b[0m │ \u001b[36m-0.\u001b[0m │ \u001b[36m-0.0\u001b[0m │ \u001b[36m0.6\u001b[0m │ \u001b[36m 3.7\u001b[0m │ \u001b[32m▁▅▇\u001b[0m │  │\n",
      "│ │      │     │      │ \u001b[36m   2\u001b[0m │      │      │ \u001b[36m 74\u001b[0m │ \u001b[36m0077\u001b[0m │ \u001b[36m  6\u001b[0m │      │ \u001b[32m▅▁ \u001b[0m │  │\n",
      "│ └──────┴─────┴──────┴──────┴──────┴──────┴─────┴──────┴─────┴──────┴─────┘  │\n",
      "│ \u001b[3m                                 category                                 \u001b[0m  │\n",
      "│ ┌───────────────────────┬───────┬──────────┬───────────────┬─────────────┐  │\n",
      "│ │\u001b[1m \u001b[0m\u001b[1mcolumn_name          \u001b[0m\u001b[1m \u001b[0m│\u001b[1m \u001b[0m\u001b[1mNA   \u001b[0m\u001b[1m \u001b[0m│\u001b[1m \u001b[0m\u001b[1mNA %    \u001b[0m\u001b[1m \u001b[0m│\u001b[1m \u001b[0m\u001b[1mordered      \u001b[0m\u001b[1m \u001b[0m│\u001b[1m \u001b[0m\u001b[1munique     \u001b[0m\u001b[1m \u001b[0m│  │\n",
      "│ ├───────────────────────┼───────┼──────────┼───────────────┼─────────────┤  │\n",
      "│ │ \u001b[37mclass                \u001b[0m │ \u001b[36m    0\u001b[0m │ \u001b[36m       0\u001b[0m │ \u001b[96mFalse        \u001b[0m │ \u001b[36m          2\u001b[0m │  │\n",
      "│ │ \u001b[37mlocation             \u001b[0m │ \u001b[36m    1\u001b[0m │ \u001b[36m     0.1\u001b[0m │ \u001b[96mFalse        \u001b[0m │ \u001b[36m          5\u001b[0m │  │\n",
      "│ └───────────────────────┴───────┴──────────┴───────────────┴─────────────┘  │\n",
      "│ \u001b[3m                                   bool                                   \u001b[0m  │\n",
      "│ ┌────────────────────────┬───────────┬────────────────────┬──────────────┐  │\n",
      "│ │\u001b[1m \u001b[0m\u001b[1mcolumn_name           \u001b[0m\u001b[1m \u001b[0m│\u001b[1m \u001b[0m\u001b[1mtrue     \u001b[0m\u001b[1m \u001b[0m│\u001b[1m \u001b[0m\u001b[1mtrue rate         \u001b[0m\u001b[1m \u001b[0m│\u001b[1m \u001b[0m\u001b[1mhist        \u001b[0m\u001b[1m \u001b[0m│  │\n",
      "│ ├────────────────────────┼───────────┼────────────────────┼──────────────┤  │\n",
      "│ │ \u001b[37mbooly_col             \u001b[0m │ \u001b[36m      516\u001b[0m │ \u001b[36m              0.52\u001b[0m │ \u001b[32m   ▇    ▇   \u001b[0m │  │\n",
      "│ └────────────────────────┴───────────┴────────────────────┴──────────────┘  │\n",
      "│ \u001b[3m                                 datetime                                 \u001b[0m  │\n",
      "│ ┌────────────────────┬─────┬───────┬────────────┬────────────┬───────────┐  │\n",
      "│ │\u001b[1m \u001b[0m\u001b[1mcolumn_name       \u001b[0m\u001b[1m \u001b[0m│\u001b[1m \u001b[0m\u001b[1mNA \u001b[0m\u001b[1m \u001b[0m│\u001b[1m \u001b[0m\u001b[1mNA % \u001b[0m\u001b[1m \u001b[0m│\u001b[1m \u001b[0m\u001b[1mfirst     \u001b[0m\u001b[1m \u001b[0m│\u001b[1m \u001b[0m\u001b[1mlast      \u001b[0m\u001b[1m \u001b[0m│\u001b[1m \u001b[0m\u001b[1mfrequency\u001b[0m\u001b[1m \u001b[0m│  │\n",
      "│ ├────────────────────┼─────┼───────┼────────────┼────────────┼───────────┤  │\n",
      "│ │ \u001b[37mdatetime          \u001b[0m │ \u001b[36m  0\u001b[0m │ \u001b[36m    0\u001b[0m │ \u001b[31m2018-01-31\u001b[0m │ \u001b[31m2101-04-30\u001b[0m │ \u001b[37mM        \u001b[0m │  │\n",
      "│ │ \u001b[37mdatetime_no_freq  \u001b[0m │ \u001b[36m  3\u001b[0m │ \u001b[36m  0.3\u001b[0m │ \u001b[31m1992-01-05\u001b[0m │ \u001b[31m2023-03-04\u001b[0m │ \u001b[37mNone     \u001b[0m │  │\n",
      "│ └────────────────────┴─────┴───────┴────────────┴────────────┴───────────┘  │\n",
      "│ \u001b[3m                         <class 'datetime.date'>                          \u001b[0m  │\n",
      "│ ┌──────────────────────┬────┬──────┬────────────┬────────────┬───────────┐  │\n",
      "│ │\u001b[1m \u001b[0m\u001b[1mcolumn_name         \u001b[0m\u001b[1m \u001b[0m│\u001b[1m \u001b[0m\u001b[1mNA\u001b[0m\u001b[1m \u001b[0m│\u001b[1m \u001b[0m\u001b[1mNA %\u001b[0m\u001b[1m \u001b[0m│\u001b[1m \u001b[0m\u001b[1mfirst     \u001b[0m\u001b[1m \u001b[0m│\u001b[1m \u001b[0m\u001b[1mlast      \u001b[0m\u001b[1m \u001b[0m│\u001b[1m \u001b[0m\u001b[1mfrequency\u001b[0m\u001b[1m \u001b[0m│  │\n",
      "│ ├──────────────────────┼────┼──────┼────────────┼────────────┼───────────┤  │\n",
      "│ │ \u001b[37mdatetime.date       \u001b[0m │ \u001b[36m 0\u001b[0m │ \u001b[36m   0\u001b[0m │ \u001b[37m2018-01-31\u001b[0m │ \u001b[37m2101-04-30\u001b[0m │ \u001b[37mM        \u001b[0m │  │\n",
      "│ │ \u001b[37mdatetime.date_no_fre\u001b[0m │ \u001b[36m 0\u001b[0m │ \u001b[36m   0\u001b[0m │ \u001b[37m1992-01-05\u001b[0m │ \u001b[37m2023-03-04\u001b[0m │ \u001b[37mNone     \u001b[0m │  │\n",
      "│ │ \u001b[37mq                   \u001b[0m │    │      │            │            │           │  │\n",
      "│ └──────────────────────┴────┴──────┴────────────┴────────────┴───────────┘  │\n",
      "│ \u001b[3m                               timedelta64\u001b[0m\u001b[3m                                \u001b[0m  │\n",
      "│ ┌─────────────┬────┬──────┬───────────────┬───────────────┬──────────────┐  │\n",
      "│ │\u001b[1m \u001b[0m\u001b[1mcolumn_name\u001b[0m\u001b[1m \u001b[0m│\u001b[1m \u001b[0m\u001b[1mNA\u001b[0m\u001b[1m \u001b[0m│\u001b[1m \u001b[0m\u001b[1mNA %\u001b[0m\u001b[1m \u001b[0m│\u001b[1m \u001b[0m\u001b[1mmean         \u001b[0m\u001b[1m \u001b[0m│\u001b[1m \u001b[0m\u001b[1mmedian       \u001b[0m\u001b[1m \u001b[0m│\u001b[1m \u001b[0m\u001b[1mmax         \u001b[0m\u001b[1m \u001b[0m│  │\n",
      "│ ├─────────────┼────┼──────┼───────────────┼───────────────┼──────────────┤  │\n",
      "│ │ \u001b[37mtime diff  \u001b[0m │ \u001b[36m 5\u001b[0m │ \u001b[36m 0.5\u001b[0m │ \u001b[36m       8 days\u001b[0m │ \u001b[36m       0 days\u001b[0m │ \u001b[36m     26 days\u001b[0m │  │\n",
      "│ │             │    │      │ \u001b[36m     00:05:47\u001b[0m │ \u001b[36m     00:00:00\u001b[0m │ \u001b[36m    00:00:00\u001b[0m │  │\n",
      "│ └─────────────┴────┴──────┴───────────────┴───────────────┴──────────────┘  │\n",
      "│ \u001b[3m                                  string                                  \u001b[0m  │\n",
      "│ ┌──────────────────┬──────┬────────┬────────────────────┬────────────────┐  │\n",
      "│ │\u001b[1m \u001b[0m\u001b[1mcolumn_name     \u001b[0m\u001b[1m \u001b[0m│\u001b[1m \u001b[0m\u001b[1mNA  \u001b[0m\u001b[1m \u001b[0m│\u001b[1m \u001b[0m\u001b[1mNA %  \u001b[0m\u001b[1m \u001b[0m│\u001b[1m \u001b[0m\u001b[1mwords per row     \u001b[0m\u001b[1m \u001b[0m│\u001b[1m \u001b[0m\u001b[1mtotal words   \u001b[0m\u001b[1m \u001b[0m│  │\n",
      "│ ├──────────────────┼──────┼────────┼────────────────────┼────────────────┤  │\n",
      "│ │ \u001b[37mtext            \u001b[0m │ \u001b[36m   6\u001b[0m │ \u001b[36m   0.6\u001b[0m │ \u001b[36m               5.8\u001b[0m │ \u001b[36m          5761\u001b[0m │  │\n",
      "│ └──────────────────┴──────┴────────┴────────────────────┴────────────────┘  │\n",
      "└──────────────────────────────────── End ────────────────────────────────────┘\n"
     ]
    }
   ],
   "source": [
    "df = generate_test_data()\n",
    "skim(df)"
   ]
  }
 ],
 "metadata": {
  "kernelspec": {
   "display_name": "y-dataprofiling",
   "language": "python",
   "name": "python3"
  },
  "language_info": {
   "codemirror_mode": {
    "name": "ipython",
    "version": 3
   },
   "file_extension": ".py",
   "mimetype": "text/x-python",
   "name": "python",
   "nbconvert_exporter": "python",
   "pygments_lexer": "ipython3",
   "version": "3.10.0"
  }
 },
 "nbformat": 4,
 "nbformat_minor": 2
}
